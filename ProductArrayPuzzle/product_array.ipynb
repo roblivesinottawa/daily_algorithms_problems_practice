{
 "cells": [
  {
   "cell_type": "code",
   "execution_count": null,
   "source": [
    "\"\"\"GIVEN AN ARRAY OF INTEGERS, RETURN A NEW ARRAY SUCH THAT EACH ELEMENT AT INDEX i OF THE NEW ARRAY IS THE PRODUCT OF ALL THE NUMBERS IN THE ORIGINAL ARRAY EXCEPT THE ONE AT i\"\"\""
   ],
   "outputs": [],
   "metadata": {}
  },
  {
   "cell_type": "code",
   "execution_count": 11,
   "source": [
    "def product_array(arr, n):\n",
    "    if n == 1:\n",
    "        print(0)\n",
    "        return\n",
    "\n",
    "    left = [0] * n\n",
    "    right = [0] * n\n",
    "\n",
    "    prod = [0] * n\n",
    "\n",
    "    left[0] = 1\n",
    "\n",
    "    right[n - 1] = 1\n",
    "\n",
    "    # construct left array\n",
    "    for i in range(1, n):\n",
    "        left[i] = arr[i - 1] * left[i - 1]\n",
    "\n",
    "    # construct right array\n",
    "    for j in range(n-2, -1, -1):\n",
    "        right[j] = arr[j + 1] * right[j + 1]\n",
    "\n",
    "    # construct prod array\n",
    "    for i in range(n):\n",
    "       prod[i] = left[i] * right[i]\n",
    "\n",
    "    # print prod array\n",
    "    for i in range(n):\n",
    "        print(prod[i], end=' ')\n",
    "\n",
    "\n",
    "arr = [1,2,3,4,5]\n",
    "n = len(arr)\n",
    "print(\"The product array is: \")\n",
    "product_array(arr, n)"
   ],
   "outputs": [
    {
     "output_type": "stream",
     "name": "stdout",
     "text": [
      "The product array is: \n",
      "120 60 40 30 24 "
     ]
    }
   ],
   "metadata": {}
  },
  {
   "cell_type": "code",
   "execution_count": 25,
   "source": [
    "\"\"\"To get to that result the multiplication goes as follows:\n",
    "\n",
    "    2*3*4*5 = 120\n",
    "    1*3*4*5 = 60\n",
    "    2*4*5 = 40\n",
    "    2*3*5 = 30\n",
    "    1*2*3*4 = 24\n",
    "\n",
    "    Then the result is a new array = [120, 60, 40, 30, 24]\n",
    "\"\"\"\n",
    "\n"
   ],
   "outputs": [
    {
     "output_type": "execute_result",
     "data": {
      "text/plain": [
       "'To get to that result the multiplication goes as follows:\\n\\n    5*4*3*2*1 = 120\\n    5*4*3 = 60\\n    5*4*2 = 40\\n    5*3*2 = 30\\n    4*3*2*1 = 24\\n\\n    Then the result is a new array = [120, 60, 40, 30, 24]\\n'"
      ]
     },
     "metadata": {},
     "execution_count": 25
    }
   ],
   "metadata": {}
  },
  {
   "cell_type": "code",
   "execution_count": 26,
   "source": [
    "integers = [1, 2, 3, 4, 5]\n",
    "\n",
    "def compute(_list):\n",
    "    new_list = []\n",
    "\n",
    "    for index, value in enumerate(_list):\n",
    "        original_list = _list\n",
    "        original_integer = original_list[index]\n",
    "        original_list[index] = 1\n",
    "\n",
    "        result = 1\n",
    "        for x in original_list:\n",
    "            result *= x\n",
    "\n",
    "        new_list.append(result)\n",
    "\n",
    "        original_list[index] = original_integer\n",
    "    return new_list\n",
    "\n",
    "print(compute(integers))"
   ],
   "outputs": [
    {
     "output_type": "stream",
     "name": "stdout",
     "text": [
      "[120, 60, 40, 30, 24]\n"
     ]
    }
   ],
   "metadata": {}
  },
  {
   "cell_type": "code",
   "execution_count": null,
   "source": [],
   "outputs": [],
   "metadata": {}
  },
  {
   "cell_type": "code",
   "execution_count": null,
   "source": [],
   "outputs": [],
   "metadata": {}
  },
  {
   "cell_type": "code",
   "execution_count": null,
   "source": [],
   "outputs": [],
   "metadata": {}
  },
  {
   "cell_type": "code",
   "execution_count": null,
   "source": [],
   "outputs": [],
   "metadata": {}
  }
 ],
 "metadata": {
  "orig_nbformat": 4,
  "language_info": {
   "name": "python",
   "version": "3.8.3",
   "mimetype": "text/x-python",
   "codemirror_mode": {
    "name": "ipython",
    "version": 3
   },
   "pygments_lexer": "ipython3",
   "nbconvert_exporter": "python",
   "file_extension": ".py"
  },
  "kernelspec": {
   "name": "python3",
   "display_name": "Python 3.8.3 64-bit ('base': conda)"
  },
  "interpreter": {
   "hash": "dca0ade3e726a953b501b15e8e990130d2b7799f14cfd9f4271676035ebe5511"
  }
 },
 "nbformat": 4,
 "nbformat_minor": 2
}