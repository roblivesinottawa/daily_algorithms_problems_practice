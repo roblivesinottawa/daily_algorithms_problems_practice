{
 "cells": [
  {
   "cell_type": "code",
   "execution_count": 1,
   "source": [
    "\"\"\"Given a list of numbers and a number k, return whether any two numbers from the list add up to k. For example, given [10, 15, 3, 7] and k of 17, return true since 10 + 7 is 17.\"\"\""
   ],
   "outputs": [
    {
     "output_type": "execute_result",
     "data": {
      "text/plain": [
       "'Given a list of numbers and a number k, return whether any two numbers from the list add up to k. For example, given [10, 15, 3, 7] and k of 17, return true since 10 + 7 is 17.'"
      ]
     },
     "metadata": {},
     "execution_count": 1
    }
   ],
   "metadata": {}
  },
  {
   "cell_type": "code",
   "execution_count": 1,
   "source": [
    "# this is called the naive approach\n",
    "def two_sum(num_arr, target):\n",
    "    for i in range(len(num_arr) - 1):\n",
    "        for j in range(i + 1, len(num_arr)):\n",
    "            if num_arr[i] + num_arr[j] == target:\n",
    "                return [i, j]\n",
    "    return None\n",
    "\n",
    "num_arr = [10, 15, 3, 7]\n",
    "target = 17\n",
    "\n",
    "result = two_sum(num_arr, target)\n",
    "print(result)"
   ],
   "outputs": [
    {
     "output_type": "stream",
     "name": "stdout",
     "text": [
      "[0, 3]\n"
     ]
    }
   ],
   "metadata": {}
  },
  {
   "cell_type": "code",
   "execution_count": 7,
   "source": [
    "arr1 = [1,3,5,6]\n",
    "target1 = 8\n",
    "\n",
    "arr2 = [4,7,2,6]\n",
    "target2 = 12"
   ],
   "outputs": [],
   "metadata": {}
  },
  {
   "cell_type": "code",
   "execution_count": 8,
   "source": [
    "def two_sum1(arr,target):\n",
    "    values = dict()\n",
    "\n",
    "    for i, j in enumerate(arr):\n",
    "        comp = target - j\n",
    "        if comp in values:\n",
    "            return [values[comp], i]\n",
    "        else:\n",
    "            values[j] = i\n",
    "\n",
    "    return []"
   ],
   "outputs": [],
   "metadata": {}
  },
  {
   "cell_type": "code",
   "execution_count": 9,
   "source": [
    "print(two_sum1(arr1, target1))"
   ],
   "outputs": [
    {
     "output_type": "stream",
     "name": "stdout",
     "text": [
      "[1, 2]\n"
     ]
    }
   ],
   "metadata": {}
  },
  {
   "cell_type": "code",
   "execution_count": 10,
   "source": [
    "print(arr2)\n",
    "print(target2)\n",
    "print(two_sum1(arr2, target2))"
   ],
   "outputs": [
    {
     "output_type": "stream",
     "name": "stdout",
     "text": [
      "[4, 7, 2, 6]\n",
      "12\n",
      "[]\n"
     ]
    }
   ],
   "metadata": {}
  },
  {
   "cell_type": "code",
   "execution_count": 12,
   "source": [
    "# using a brute force approach\n",
    "\n",
    "class Solution:\n",
    "    def twoSum(self, arr, target):\n",
    "        for i in range(len(arr)):\n",
    "            for j in range(i+1, len(arr)):\n",
    "                _sum = arr[i] + arr[j]\n",
    "                if _sum == target:\n",
    "                    return [i, j]"
   ],
   "outputs": [],
   "metadata": {}
  },
  {
   "cell_type": "code",
   "execution_count": 14,
   "source": [
    "solution = Solution()\n",
    "print(solution.twoSum(arr=[3, 7, 4, 5], target=9))"
   ],
   "outputs": [
    {
     "output_type": "stream",
     "name": "stdout",
     "text": [
      "[2, 3]\n"
     ]
    }
   ],
   "metadata": {}
  },
  {
   "cell_type": "code",
   "execution_count": null,
   "source": [],
   "outputs": [],
   "metadata": {}
  }
 ],
 "metadata": {
  "orig_nbformat": 4,
  "language_info": {
   "name": "python",
   "version": "3.8.3",
   "mimetype": "text/x-python",
   "codemirror_mode": {
    "name": "ipython",
    "version": 3
   },
   "pygments_lexer": "ipython3",
   "nbconvert_exporter": "python",
   "file_extension": ".py"
  },
  "kernelspec": {
   "name": "python3",
   "display_name": "Python 3.8.3 64-bit ('base': conda)"
  },
  "interpreter": {
   "hash": "dca0ade3e726a953b501b15e8e990130d2b7799f14cfd9f4271676035ebe5511"
  }
 },
 "nbformat": 4,
 "nbformat_minor": 2
}